{
  "nbformat": 4,
  "nbformat_minor": 0,
  "metadata": {
    "colab": {
      "provenance": [],
      "name": "Genetic_24.ipynb",
      "authorship_tag": "ABX9TyNBUkO0QZpvuDk7hHXJvhAC",
      "include_colab_link": true
    },
    "kernelspec": {
      "name": "python3",
      "display_name": "Python 3"
    },
    "language_info": {
      "name": "python"
    }
  },
  "cells": [
    {
      "cell_type": "markdown",
      "metadata": {
        "id": "view-in-github",
        "colab_type": "text"
      },
      "source": [
        "<a href=\"https://colab.research.google.com/github/riverleejames/artificial_intelligence/blob/main/Genetic_24.ipynb\" target=\"_parent\"><img src=\"https://colab.research.google.com/assets/colab-badge.svg\" alt=\"Open In Colab\"/></a>"
      ]
    },
    {
      "cell_type": "code",
      "source": [
        "import numpy as np"
      ],
      "metadata": {
        "id": "hbH07PaEplZc"
      },
      "execution_count": 27,
      "outputs": []
    },
    {
      "cell_type": "code",
      "source": [
        "individual_one = np.random.uniform(-10,10,8)"
      ],
      "metadata": {
        "id": "gyi7lGuGpsq7"
      },
      "execution_count": 28,
      "outputs": []
    },
    {
      "cell_type": "code",
      "source": [
        "individual_two = np.random.uniform(-10,10,8)"
      ],
      "metadata": {
        "id": "8kNKt6cdrH9J"
      },
      "execution_count": 29,
      "outputs": []
    },
    {
      "cell_type": "code",
      "execution_count": 30,
      "metadata": {
        "id": "qqUPGVAioJnL"
      },
      "outputs": [],
      "source": [
        "def sphere(x):\n",
        "  total = 0\n",
        "  for i in x:\n",
        "    total += i**2\n",
        "  return total\n"
      ]
    },
    {
      "cell_type": "code",
      "source": [
        "ind_one_cost = sphere(individual_one)\n",
        "ind_two_cost = sphere(individual_two)\n",
        "\n",
        "print(ind_one_cost)\n",
        "print(ind_two_cost)\n"
      ],
      "metadata": {
        "colab": {
          "base_uri": "https://localhost:8080/"
        },
        "id": "zN37AjfwrSCJ",
        "outputId": "7728ef70-833e-44f9-90fa-1cff2bac16f6"
      },
      "execution_count": 31,
      "outputs": [
        {
          "output_type": "stream",
          "name": "stdout",
          "text": [
            "239.50292849503444\n",
            "299.7210887555468\n"
          ]
        }
      ]
    },
    {
      "cell_type": "code",
      "source": [
        "class problem:\n",
        "  def __init__(self):\n",
        "    self.number_of_genes = 8\n",
        "    self.max_value = 10\n",
        "    self.min_value = -10\n",
        "    self.cost_function = sphere"
      ],
      "metadata": {
        "id": "QdtThkCVocMi"
      },
      "execution_count": 32,
      "outputs": []
    },
    {
      "cell_type": "code",
      "source": [
        "class individual:\n",
        "  def __init__(self,prob):\n",
        "    self.chromosome = np.random.uniform(prob.min_value, prob.max_value, prob.number_of_genes)\n",
        "    self.cost = prob.cost_function(self.chromosome)\n",
        "\n",
        "  def mutate(self):\n",
        "\n"
      ],
      "metadata": {
        "id": "dULwOCZeok8X"
      },
      "execution_count": 33,
      "outputs": []
    },
    {
      "cell_type": "code",
      "source": [
        "p1 = problem()\n",
        "indx = individual(p1)\n",
        "indx.chromosome"
      ],
      "metadata": {
        "colab": {
          "base_uri": "https://localhost:8080/"
        },
        "id": "OQgEI1RIsVBb",
        "outputId": "ddfdc59f-1acd-4868-db37-d493350daf22"
      },
      "execution_count": 34,
      "outputs": [
        {
          "output_type": "execute_result",
          "data": {
            "text/plain": [
              "array([ 5.22170561, -4.59129167, -7.24813107, -1.23191768,  9.07318   ,\n",
              "       -3.46511593, -2.48322553,  6.84802999])"
            ]
          },
          "metadata": {},
          "execution_count": 34
        }
      ]
    },
    {
      "cell_type": "code",
      "source": [
        "indx.cost"
      ],
      "metadata": {
        "colab": {
          "base_uri": "https://localhost:8080/"
        },
        "id": "lX3q1NzctENI",
        "outputId": "78109fef-fd9b-4394-e8da-e65094a4acf8"
      },
      "execution_count": 35,
      "outputs": [
        {
          "output_type": "execute_result",
          "data": {
            "text/plain": [
              "249.79074142178322"
            ]
          },
          "metadata": {},
          "execution_count": 35
        }
      ]
    }
  ]
}