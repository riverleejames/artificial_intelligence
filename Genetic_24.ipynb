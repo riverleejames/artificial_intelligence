{
  "nbformat": 4,
  "nbformat_minor": 0,
  "metadata": {
    "colab": {
      "provenance": [],
      "name": "Genetic_24.ipynb",
      "authorship_tag": "ABX9TyPkjkJPn5ii00liwp/IwPY6",
      "include_colab_link": true
    },
    "kernelspec": {
      "name": "python3",
      "display_name": "Python 3"
    },
    "language_info": {
      "name": "python"
    }
  },
  "cells": [
    {
      "cell_type": "markdown",
      "metadata": {
        "id": "view-in-github",
        "colab_type": "text"
      },
      "source": [
        "<a href=\"https://colab.research.google.com/github/riverleejames/artificial_intelligence/blob/main/Genetic_24.ipynb\" target=\"_parent\"><img src=\"https://colab.research.google.com/assets/colab-badge.svg\" alt=\"Open In Colab\"/></a>"
      ]
    },
    {
      "cell_type": "code",
      "source": [
        "import numpy as np"
      ],
      "metadata": {
        "id": "hbH07PaEplZc"
      },
      "execution_count": 2,
      "outputs": []
    },
    {
      "cell_type": "code",
      "source": [
        "individual_one = np.random.uniform(-10,10,8)"
      ],
      "metadata": {
        "id": "gyi7lGuGpsq7"
      },
      "execution_count": 4,
      "outputs": []
    },
    {
      "cell_type": "code",
      "source": [
        "individual_two = np.random.uniform(-10,10,8)"
      ],
      "metadata": {
        "id": "8kNKt6cdrH9J"
      },
      "execution_count": 5,
      "outputs": []
    },
    {
      "cell_type": "code",
      "execution_count": 6,
      "metadata": {
        "id": "qqUPGVAioJnL"
      },
      "outputs": [],
      "source": [
        "def sphere(x):\n",
        "  total = 0\n",
        "  for i in x:\n",
        "    total += i**2\n",
        "  return total\n"
      ]
    },
    {
      "cell_type": "code",
      "source": [
        "ind_one_cost = sphere(individual_one)\n",
        "ind_two_cost = sphere(individual_two)\n",
        "\n",
        "print(ind_one_cost)\n",
        "print(ind_two_cost)\n"
      ],
      "metadata": {
        "id": "zN37AjfwrSCJ",
        "outputId": "10bd8136-f7ab-4eb9-f944-f1efecfb3f99",
        "colab": {
          "base_uri": "https://localhost:8080/"
        }
      },
      "execution_count": 7,
      "outputs": [
        {
          "output_type": "stream",
          "name": "stdout",
          "text": [
            "127.58211964579732\n",
            "239.7017822649825\n"
          ]
        }
      ]
    },
    {
      "cell_type": "code",
      "source": [
        "class problem:\n",
        "  def __init__(self):\n",
        "    self.number_of_genes = 8\n",
        "    self.max_value = 10\n",
        "    self.min_value = -10"
      ],
      "metadata": {
        "id": "QdtThkCVocMi"
      },
      "execution_count": null,
      "outputs": []
    },
    {
      "cell_type": "code",
      "source": [
        "class individual:\n",
        "  def __init__(self,prob)\n"
      ],
      "metadata": {
        "id": "dULwOCZeok8X"
      },
      "execution_count": null,
      "outputs": []
    }
  ]
}